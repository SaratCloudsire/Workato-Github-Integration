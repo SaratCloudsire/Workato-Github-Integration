{
 "cells": [
  {
   "cell_type": "code",
   "execution_count": 1,
   "id": "eaf921c3",
   "metadata": {},
   "outputs": [
    {
     "name": "stderr",
     "output_type": "stream",
     "text": [
      "<>:12: SyntaxWarning: \"is\" with a literal. Did you mean \"==\"?\n",
      "<>:12: SyntaxWarning: \"is\" with a literal. Did you mean \"==\"?\n"
     ]
    },
    {
     "name": "stdout",
     "output_type": "stream",
     "text": [
      "Requirement already satisfied: opencv-python in /Users/nitinskumar/anaconda3/lib/python3.11/site-packages (4.8.1.78)\r\n",
      "Requirement already satisfied: numpy>=1.21.2 in /Users/nitinskumar/anaconda3/lib/python3.11/site-packages (from opencv-python) (1.24.3)\r\n"
     ]
    },
    {
     "name": "stderr",
     "output_type": "stream",
     "text": [
      "/var/folders/ly/p5tg38rs2l97skvhy7ny87tm0000gn/T/ipykernel_2599/492091416.py:12: SyntaxWarning: \"is\" with a literal. Did you mean \"==\"?\n",
      "  if faces is ():\n"
     ]
    },
    {
     "name": "stdout",
     "output_type": "stream",
     "text": [
      "Collecting samples is completed....\n"
     ]
    }
   ],
   "source": [
    "!pip install opencv-python\n",
    "import cv2\n",
    " \n",
    "def generate_dataset():\n",
    "    face_classifier = cv2.CascadeClassifier(\"haarcascade_frontalface_default.xml\")\n",
    "    def face_cropped(img):\n",
    "        gray = cv2.cvtColor(img,cv2.COLOR_BGR2GRAY)\n",
    "        faces = face_classifier.detectMultiScale(gray, 1.3, 5)\n",
    "        # scaling factor = 1.3\n",
    "        # minimum neighbor = 5\n",
    "         \n",
    "        if faces is ():\n",
    "            return None\n",
    "        for (x,y,w,h) in faces:\n",
    "            cropped_face = img[y:y+h,x:x+w]\n",
    "        return cropped_face\n",
    "     \n",
    "    cap = cv2.VideoCapture(0)\n",
    "    id =3\n",
    "    img_id = 0\n",
    "     \n",
    "    while True:\n",
    "        ret, frame = cap.read()\n",
    "        if face_cropped(frame) is not None:\n",
    "            img_id+=1\n",
    "            face = cv2.resize(face_cropped(frame), (200,200))\n",
    "            face = cv2.cvtColor(face, cv2.COLOR_BGR2GRAY)\n",
    "            file_name_path = \"/Users/nitinskumar/Desktop/face recognition app/data/user.\"+str(id)+\".\"+str(img_id)+\".jpg\"\n",
    "            cv2.imwrite(file_name_path, face)\n",
    "            cv2.putText(face, str(img_id), (50,50), cv2.FONT_HERSHEY_COMPLEX, 1, (0,255,0), 2)\n",
    "             \n",
    "            cv2.imshow(\"Cropped face\", face)\n",
    "             \n",
    "        if cv2.waitKey(1)==13 or int(img_id)==200: #13 is the ASCII character of Enter\n",
    "            break\n",
    "             \n",
    "    cap.release()\n",
    "    cv2.destroyAllWindows()\n",
    "    print(\"Collecting samples is completed....\")\n",
    "generate_dataset()"
   ]
  },
  {
   "cell_type": "code",
   "execution_count": 1,
   "id": "580ea465",
   "metadata": {},
   "outputs": [
    {
     "name": "stdout",
     "output_type": "stream",
     "text": [
      "Classifier training completed successfully.\n"
     ]
    }
   ],
   "source": [
    "import os\n",
    "import cv2\n",
    "from PIL import Image\n",
    "import numpy as np\n",
    "\n",
    "def train_classifier(data_dir):\n",
    "    try:\n",
    "        path = [os.path.join(data_dir, f) for f in os.listdir(data_dir) if not f.startswith('.')]\n",
    "\n",
    "        faces = []\n",
    "        ids = []\n",
    "\n",
    "        for image in path:\n",
    "            if os.path.isfile(image):  # Check if it's a file\n",
    "                try:\n",
    "                    img = Image.open(image).convert('L')\n",
    "                    imageNp = np.array(img, 'uint8')\n",
    "                    id = int(os.path.split(image)[1].split(\".\")[1])\n",
    "                    \n",
    "                    faces.append(imageNp)\n",
    "                    ids.append(id)\n",
    "                except Exception as e:\n",
    "                    print(f\"Error processing image '{image}': {e}\")\n",
    "\n",
    "        if not faces:\n",
    "            raise ValueError(\"No valid images found in the data directory.\")\n",
    "\n",
    "        ids = np.array(ids)\n",
    "\n",
    "        # Train and save classifier\n",
    "        clf = cv2.face.LBPHFaceRecognizer_create()\n",
    "        clf.train(faces, ids)\n",
    "        clf.write(\"classifier.xml\")\n",
    "        \n",
    "        print(\"Classifier training completed successfully.\")\n",
    "    except Exception as e:\n",
    "        print(\"An error occurred:\", e)\n",
    "\n",
    "train_classifier(\"data\")\n"
   ]
  },
  {
   "cell_type": "code",
   "execution_count": null,
   "id": "deae63f9",
   "metadata": {},
   "outputs": [],
   "source": [
    "import cv2\n",
    "import numpy as np\n",
    "from PIL import Image\n",
    "import os\n",
    " \n",
    "def draw_boundary(img, classifier, scaleFactor, minNeighbors, color, text, clf):\n",
    "    gray_img = cv2.cvtColor(img, cv2.COLOR_BGR2GRAY)\n",
    "    features = classifier.detectMultiScale(gray_img, scaleFactor, minNeighbors)\n",
    "     \n",
    "    for (x,y,w,h) in features:\n",
    "        cv2.rectangle(img, (x,y), (x+w,y+h), color, 2 )\n",
    "         \n",
    "        id, pred = clf.predict(gray_img[y:y+h,x:x+w])\n",
    "        confidence = int(100*(1-pred/300))\n",
    "         \n",
    "        if confidence>70:\n",
    "            if id==1:\n",
    "                cv2.putText(img, \"Nitin\", (x,y-5), cv2.FONT_HERSHEY_SIMPLEX, 0.8, color, 1, cv2.LINE_AA)\n",
    "            if id==3:\n",
    "                cv2.putText(img, \"Rahul\", (x,y-5), cv2.FONT_HERSHEY_SIMPLEX, 0.8, color, 1, cv2.LINE_AA)\n",
    "        else:\n",
    "            cv2.putText(img, \"UNKNOWN\", (x,y-5), cv2.FONT_HERSHEY_SIMPLEX, 0.8, (0,0,255), 1, cv2.LINE_AA)\n",
    "     \n",
    "    return img\n",
    " \n",
    "# loading classifier\n",
    "faceCascade = cv2.CascadeClassifier(\"haarcascade_frontalface_default.xml\")\n",
    " \n",
    "clf = cv2.face.LBPHFaceRecognizer_create()\n",
    "clf.read(\"classifier.xml\")\n",
    " \n",
    "video_capture = cv2.VideoCapture(0)\n",
    " \n",
    "while True:\n",
    "    ret, img = video_capture.read()\n",
    "    img = draw_boundary(img, faceCascade, 1.3, 6, (255,255,255), \"Face\", clf)\n",
    "    cv2.imshow(\"face Detection\", img)\n",
    "     \n",
    "    if cv2.waitKey(1)==13:\n",
    "        break\n",
    "video_capture.release()\n",
    "cv2.destroyAllWindows()"
   ]
  },
  {
   "cell_type": "code",
   "execution_count": null,
   "id": "4aa47e4c",
   "metadata": {},
   "outputs": [],
   "source": []
  }
 ],
 "metadata": {
  "kernelspec": {
   "display_name": "Python 3 (ipykernel)",
   "language": "python",
   "name": "python3"
  },
  "language_info": {
   "codemirror_mode": {
    "name": "ipython",
    "version": 3
   },
   "file_extension": ".py",
   "mimetype": "text/x-python",
   "name": "python",
   "nbconvert_exporter": "python",
   "pygments_lexer": "ipython3",
   "version": "3.11.5"
  }
 },
 "nbformat": 4,
 "nbformat_minor": 5
}
